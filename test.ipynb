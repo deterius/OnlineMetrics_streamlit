{
 "cells": [
  {
   "cell_type": "code",
   "execution_count": 40,
   "metadata": {},
   "outputs": [],
   "source": [
    "import pandas as pd\n",
    "from openpyxl.reader.excel import load_workbook\n",
    "from openpyxl.workbook import Workbook\n",
    "import plotly.express as px\n"
   ]
  },
  {
   "cell_type": "code",
   "execution_count": 24,
   "metadata": {},
   "outputs": [],
   "source": [
    "df = pd.read_excel('/Users/simeonbourim/ML/OnlineMetrics/combineddata/sampleuploaddata.xlsx')\n"
   ]
  },
  {
   "cell_type": "code",
   "execution_count": 25,
   "metadata": {},
   "outputs": [
    {
     "data": {
      "text/html": [
       "<div>\n",
       "<style scoped>\n",
       "    .dataframe tbody tr th:only-of-type {\n",
       "        vertical-align: middle;\n",
       "    }\n",
       "\n",
       "    .dataframe tbody tr th {\n",
       "        vertical-align: top;\n",
       "    }\n",
       "\n",
       "    .dataframe thead th {\n",
       "        text-align: right;\n",
       "    }\n",
       "</style>\n",
       "<table border=\"1\" class=\"dataframe\">\n",
       "  <thead>\n",
       "    <tr style=\"text-align: right;\">\n",
       "      <th></th>\n",
       "      <th>日期</th>\n",
       "      <th>门店名</th>\n",
       "      <th>门店id</th>\n",
       "      <th>城市名称</th>\n",
       "      <th>营业时长</th>\n",
       "      <th>高峰营业时长</th>\n",
       "      <th>有效订单</th>\n",
       "      <th>无效订单</th>\n",
       "      <th>收入</th>\n",
       "      <th>营业额</th>\n",
       "      <th>...</th>\n",
       "      <th>新上架商品数</th>\n",
       "      <th>活动商品数</th>\n",
       "      <th>差评订单数</th>\n",
       "      <th>投诉订单数</th>\n",
       "      <th>投诉订单id</th>\n",
       "      <th>出餐超时订单数</th>\n",
       "      <th>出餐超时订单id</th>\n",
       "      <th>单均出餐时长</th>\n",
       "      <th>催单数</th>\n",
       "      <th>拒单数</th>\n",
       "    </tr>\n",
       "  </thead>\n",
       "  <tbody>\n",
       "    <tr>\n",
       "      <th>0</th>\n",
       "      <td>2021-09-30</td>\n",
       "      <td>兄弟烤肉Brothers Kebab  烤肉卷(古北家乐福店)</td>\n",
       "      <td>170435679</td>\n",
       "      <td>上海</td>\n",
       "      <td>12小时1分</td>\n",
       "      <td>5小时0分</td>\n",
       "      <td>30</td>\n",
       "      <td>1</td>\n",
       "      <td>2330.98</td>\n",
       "      <td>3084.5</td>\n",
       "      <td>...</td>\n",
       "      <td>0</td>\n",
       "      <td>37</td>\n",
       "      <td>0</td>\n",
       "      <td>0</td>\n",
       "      <td>NaN</td>\n",
       "      <td>6</td>\n",
       "      <td>5038020935628556771,5038020160294557155,503801...</td>\n",
       "      <td>8.48</td>\n",
       "      <td>0</td>\n",
       "      <td>0</td>\n",
       "    </tr>\n",
       "    <tr>\n",
       "      <th>1</th>\n",
       "      <td>2021-09-30</td>\n",
       "      <td>兄弟烤肉Brothers Kebab  烤肉卷(南京西路店)</td>\n",
       "      <td>170483226</td>\n",
       "      <td>上海</td>\n",
       "      <td>11小时31分</td>\n",
       "      <td>5小时0分</td>\n",
       "      <td>32</td>\n",
       "      <td>1</td>\n",
       "      <td>2168.97</td>\n",
       "      <td>2924.0</td>\n",
       "      <td>...</td>\n",
       "      <td>0</td>\n",
       "      <td>37</td>\n",
       "      <td>0</td>\n",
       "      <td>0</td>\n",
       "      <td>NaN</td>\n",
       "      <td>3</td>\n",
       "      <td>5038015719852049708,5038000929930793260,503799...</td>\n",
       "      <td>7.72</td>\n",
       "      <td>0</td>\n",
       "      <td>0</td>\n",
       "    </tr>\n",
       "    <tr>\n",
       "      <th>2</th>\n",
       "      <td>2021-09-30</td>\n",
       "      <td>兄弟烤肉Brothers Kebab  烤肉卷(淮海西路店)</td>\n",
       "      <td>2000261656</td>\n",
       "      <td>上海</td>\n",
       "      <td>0小时0分</td>\n",
       "      <td>0小时0分</td>\n",
       "      <td>0</td>\n",
       "      <td>0</td>\n",
       "      <td>0.00</td>\n",
       "      <td>0.0</td>\n",
       "      <td>...</td>\n",
       "      <td>0</td>\n",
       "      <td>32</td>\n",
       "      <td>0</td>\n",
       "      <td>0</td>\n",
       "      <td>NaN</td>\n",
       "      <td>0</td>\n",
       "      <td>NaN</td>\n",
       "      <td>0.00</td>\n",
       "      <td>0</td>\n",
       "      <td>0</td>\n",
       "    </tr>\n",
       "    <tr>\n",
       "      <th>3</th>\n",
       "      <td>2021-09-30</td>\n",
       "      <td>兄弟烤肉Brothers Kebab  烤肉卷(奉贤路店)</td>\n",
       "      <td>440866</td>\n",
       "      <td>上海</td>\n",
       "      <td>12小时1分</td>\n",
       "      <td>5小时0分</td>\n",
       "      <td>32</td>\n",
       "      <td>0</td>\n",
       "      <td>1845.80</td>\n",
       "      <td>2527.5</td>\n",
       "      <td>...</td>\n",
       "      <td>1</td>\n",
       "      <td>41</td>\n",
       "      <td>0</td>\n",
       "      <td>0</td>\n",
       "      <td>NaN</td>\n",
       "      <td>4</td>\n",
       "      <td>5038016527767378258,5038005254669451602,503802...</td>\n",
       "      <td>7.44</td>\n",
       "      <td>0</td>\n",
       "      <td>0</td>\n",
       "    </tr>\n",
       "    <tr>\n",
       "      <th>4</th>\n",
       "      <td>2021-09-30</td>\n",
       "      <td>兄弟烤肉Brothers Kebab  烤肉卷(巨鹿路店)</td>\n",
       "      <td>500151743</td>\n",
       "      <td>上海</td>\n",
       "      <td>12小时1分</td>\n",
       "      <td>5小时0分</td>\n",
       "      <td>38</td>\n",
       "      <td>0</td>\n",
       "      <td>2322.41</td>\n",
       "      <td>3223.5</td>\n",
       "      <td>...</td>\n",
       "      <td>0</td>\n",
       "      <td>40</td>\n",
       "      <td>0</td>\n",
       "      <td>0</td>\n",
       "      <td>NaN</td>\n",
       "      <td>2</td>\n",
       "      <td>5038023506778700064,5038023327321341216</td>\n",
       "      <td>8.02</td>\n",
       "      <td>1</td>\n",
       "      <td>0</td>\n",
       "    </tr>\n",
       "  </tbody>\n",
       "</table>\n",
       "<p>5 rows × 67 columns</p>\n",
       "</div>"
      ],
      "text/plain": [
       "           日期                              门店名        门店id 城市名称     营业时长  \\\n",
       "0  2021-09-30  兄弟烤肉Brothers Kebab  烤肉卷(古北家乐福店)   170435679   上海   12小时1分   \n",
       "1  2021-09-30   兄弟烤肉Brothers Kebab  烤肉卷(南京西路店)   170483226   上海  11小时31分   \n",
       "2  2021-09-30   兄弟烤肉Brothers Kebab  烤肉卷(淮海西路店)  2000261656   上海    0小时0分   \n",
       "3  2021-09-30    兄弟烤肉Brothers Kebab  烤肉卷(奉贤路店)      440866   上海   12小时1分   \n",
       "4  2021-09-30    兄弟烤肉Brothers Kebab  烤肉卷(巨鹿路店)   500151743   上海   12小时1分   \n",
       "\n",
       "  高峰营业时长  有效订单  无效订单       收入     营业额  ...  新上架商品数  活动商品数  差评订单数  投诉订单数  \\\n",
       "0  5小时0分    30     1  2330.98  3084.5  ...       0     37      0      0   \n",
       "1  5小时0分    32     1  2168.97  2924.0  ...       0     37      0      0   \n",
       "2  0小时0分     0     0     0.00     0.0  ...       0     32      0      0   \n",
       "3  5小时0分    32     0  1845.80  2527.5  ...       1     41      0      0   \n",
       "4  5小时0分    38     0  2322.41  3223.5  ...       0     40      0      0   \n",
       "\n",
       "   投诉订单id  出餐超时订单数                                           出餐超时订单id  单均出餐时长  \\\n",
       "0     NaN        6  5038020935628556771,5038020160294557155,503801...    8.48   \n",
       "1     NaN        3  5038015719852049708,5038000929930793260,503799...    7.72   \n",
       "2     NaN        0                                                NaN    0.00   \n",
       "3     NaN        4  5038016527767378258,5038005254669451602,503802...    7.44   \n",
       "4     NaN        2            5038023506778700064,5038023327321341216    8.02   \n",
       "\n",
       "   催单数  拒单数  \n",
       "0    0    0  \n",
       "1    0    0  \n",
       "2    0    0  \n",
       "3    0    0  \n",
       "4    1    0  \n",
       "\n",
       "[5 rows x 67 columns]"
      ]
     },
     "execution_count": 25,
     "metadata": {},
     "output_type": "execute_result"
    }
   ],
   "source": [
    "df.head()"
   ]
  },
  {
   "cell_type": "code",
   "execution_count": 26,
   "metadata": {},
   "outputs": [],
   "source": [
    "# ['有效订单', '无效订单', '收入', '营业额', '支出', '顾客实付总额', '单均实付', '单均收入', '商品销售额', '餐盒费', '自配送费', '其他营业额', '抽佣', '活动补贴', '代金券补贴', '配送费补贴', '智能满减补贴', '智能满减服务费', '基础物流费', '其他服务费支出', '商户原因无效订单数', '曝光人数', '曝光次数', '进店次数', '进店人数', '进店转化率', '下单转化率', '新客下单转化率', '老客下单转化率', '参与活动数', '活动订单数', '活动订单占比', '满减活动订单数', '超会活动订单数', '配送活动订单数', '投入产出比', '活动总补贴', '饿了么补贴', '代理商补贴', '商家活动成本（含满减活动）', '商家活动成本（不含满减活动）', '营销力度（含满减活动）', '营销力度（不含满减活动）', '下单人数', '复购人数', '复购率', '新客人数', '老客人数', '上架商品数', '有交易商品数', '库存不足商品数', '新上架商品数', '活动商品数', '差评订单数', '投诉订单数', '投诉订单id', '出餐超时订单数', '出餐超时订单id', '单均出餐时长', '拒单数']\n",
    "num_cols = ['有效订单', '无效订单', '收入', '营业额', '支出', '顾客实付总额', '单均实付', '单均收入', '商品销售额', '餐盒费', '自配送费', '其他营业额', '抽佣', '活动补贴', '代金券补贴', '配送费补贴', '智能满减补贴', '智能满减服务费', '基础物流费', '其他服务费支出', '商户原因无效订单数', '曝光人数', '曝光次数', '进店次数', '进店人数', '进店转化率', '下单转化率', '新客下单转化率', '老客下单转化率', '参与活动数', '活动订单数', '活动订单占比', '满减活动订单数', '超会活动订单数', '配送活动订单数', '投入产出比', '活动总补贴', '饿了么补贴', '代理商补贴', '商家活动成本（含满减活动）', '商家活动成本（不含满减活动）', '营销力度（含满减活动）', '营销力度（不含满减活动）', '下单人数', '复购人数', '复购率', '新客人数', '老客人数', '上架商品数', '有交易商品数', '库存不足商品数', '新上架商品数', '活动商品数', '差评订单数', '投诉订单数', '投诉订单id', '出餐超时订单数', '出餐超时订单id', '单均出餐时长', '拒单数']"
   ]
  },
  {
   "cell_type": "code",
   "execution_count": 29,
   "metadata": {},
   "outputs": [],
   "source": [
    "# df[[\"a\", \"b\"]] = df[[\"a\", \"b\"]].apply(pd.to_numeric)\n",
    "\n",
    "df[num_cols] = df[num_cols].apply(pd.to_numeric, errors='coerce')"
   ]
  },
  {
   "cell_type": "code",
   "execution_count": 30,
   "metadata": {},
   "outputs": [
    {
     "data": {
      "text/plain": [
       "日期           object\n",
       "门店名          object\n",
       "门店id          int64\n",
       "城市名称         object\n",
       "营业时长         object\n",
       "             ...   \n",
       "出餐超时订单数       int64\n",
       "出餐超时订单id    float64\n",
       "单均出餐时长      float64\n",
       "催单数           int64\n",
       "拒单数           int64\n",
       "Length: 67, dtype: object"
      ]
     },
     "execution_count": 30,
     "metadata": {},
     "output_type": "execute_result"
    }
   ],
   "source": [
    "df.dtypes"
   ]
  },
  {
   "cell_type": "code",
   "execution_count": 32,
   "metadata": {},
   "outputs": [],
   "source": [
    "df['日期'] = pd.to_datetime(df['日期'])\n",
    "df['Week'] = df['日期'].dt.isocalendar().week"
   ]
  },
  {
   "cell_type": "code",
   "execution_count": 33,
   "metadata": {},
   "outputs": [
    {
     "data": {
      "text/html": [
       "<div>\n",
       "<style scoped>\n",
       "    .dataframe tbody tr th:only-of-type {\n",
       "        vertical-align: middle;\n",
       "    }\n",
       "\n",
       "    .dataframe tbody tr th {\n",
       "        vertical-align: top;\n",
       "    }\n",
       "\n",
       "    .dataframe thead th {\n",
       "        text-align: right;\n",
       "    }\n",
       "</style>\n",
       "<table border=\"1\" class=\"dataframe\">\n",
       "  <thead>\n",
       "    <tr style=\"text-align: right;\">\n",
       "      <th></th>\n",
       "      <th>日期</th>\n",
       "      <th>门店名</th>\n",
       "      <th>门店id</th>\n",
       "      <th>城市名称</th>\n",
       "      <th>营业时长</th>\n",
       "      <th>高峰营业时长</th>\n",
       "      <th>有效订单</th>\n",
       "      <th>无效订单</th>\n",
       "      <th>收入</th>\n",
       "      <th>营业额</th>\n",
       "      <th>...</th>\n",
       "      <th>活动商品数</th>\n",
       "      <th>差评订单数</th>\n",
       "      <th>投诉订单数</th>\n",
       "      <th>投诉订单id</th>\n",
       "      <th>出餐超时订单数</th>\n",
       "      <th>出餐超时订单id</th>\n",
       "      <th>单均出餐时长</th>\n",
       "      <th>催单数</th>\n",
       "      <th>拒单数</th>\n",
       "      <th>Week</th>\n",
       "    </tr>\n",
       "  </thead>\n",
       "  <tbody>\n",
       "    <tr>\n",
       "      <th>0</th>\n",
       "      <td>2021-09-30</td>\n",
       "      <td>兄弟烤肉Brothers Kebab  烤肉卷(古北家乐福店)</td>\n",
       "      <td>170435679</td>\n",
       "      <td>上海</td>\n",
       "      <td>12小时1分</td>\n",
       "      <td>5小时0分</td>\n",
       "      <td>30</td>\n",
       "      <td>1</td>\n",
       "      <td>2330.98</td>\n",
       "      <td>3084.5</td>\n",
       "      <td>...</td>\n",
       "      <td>37</td>\n",
       "      <td>0</td>\n",
       "      <td>0</td>\n",
       "      <td>NaN</td>\n",
       "      <td>6</td>\n",
       "      <td>NaN</td>\n",
       "      <td>8.48</td>\n",
       "      <td>0</td>\n",
       "      <td>0</td>\n",
       "      <td>39</td>\n",
       "    </tr>\n",
       "    <tr>\n",
       "      <th>1</th>\n",
       "      <td>2021-09-30</td>\n",
       "      <td>兄弟烤肉Brothers Kebab  烤肉卷(南京西路店)</td>\n",
       "      <td>170483226</td>\n",
       "      <td>上海</td>\n",
       "      <td>11小时31分</td>\n",
       "      <td>5小时0分</td>\n",
       "      <td>32</td>\n",
       "      <td>1</td>\n",
       "      <td>2168.97</td>\n",
       "      <td>2924.0</td>\n",
       "      <td>...</td>\n",
       "      <td>37</td>\n",
       "      <td>0</td>\n",
       "      <td>0</td>\n",
       "      <td>NaN</td>\n",
       "      <td>3</td>\n",
       "      <td>NaN</td>\n",
       "      <td>7.72</td>\n",
       "      <td>0</td>\n",
       "      <td>0</td>\n",
       "      <td>39</td>\n",
       "    </tr>\n",
       "    <tr>\n",
       "      <th>2</th>\n",
       "      <td>2021-09-30</td>\n",
       "      <td>兄弟烤肉Brothers Kebab  烤肉卷(淮海西路店)</td>\n",
       "      <td>2000261656</td>\n",
       "      <td>上海</td>\n",
       "      <td>0小时0分</td>\n",
       "      <td>0小时0分</td>\n",
       "      <td>0</td>\n",
       "      <td>0</td>\n",
       "      <td>0.00</td>\n",
       "      <td>0.0</td>\n",
       "      <td>...</td>\n",
       "      <td>32</td>\n",
       "      <td>0</td>\n",
       "      <td>0</td>\n",
       "      <td>NaN</td>\n",
       "      <td>0</td>\n",
       "      <td>NaN</td>\n",
       "      <td>0.00</td>\n",
       "      <td>0</td>\n",
       "      <td>0</td>\n",
       "      <td>39</td>\n",
       "    </tr>\n",
       "    <tr>\n",
       "      <th>3</th>\n",
       "      <td>2021-09-30</td>\n",
       "      <td>兄弟烤肉Brothers Kebab  烤肉卷(奉贤路店)</td>\n",
       "      <td>440866</td>\n",
       "      <td>上海</td>\n",
       "      <td>12小时1分</td>\n",
       "      <td>5小时0分</td>\n",
       "      <td>32</td>\n",
       "      <td>0</td>\n",
       "      <td>1845.80</td>\n",
       "      <td>2527.5</td>\n",
       "      <td>...</td>\n",
       "      <td>41</td>\n",
       "      <td>0</td>\n",
       "      <td>0</td>\n",
       "      <td>NaN</td>\n",
       "      <td>4</td>\n",
       "      <td>NaN</td>\n",
       "      <td>7.44</td>\n",
       "      <td>0</td>\n",
       "      <td>0</td>\n",
       "      <td>39</td>\n",
       "    </tr>\n",
       "    <tr>\n",
       "      <th>4</th>\n",
       "      <td>2021-09-30</td>\n",
       "      <td>兄弟烤肉Brothers Kebab  烤肉卷(巨鹿路店)</td>\n",
       "      <td>500151743</td>\n",
       "      <td>上海</td>\n",
       "      <td>12小时1分</td>\n",
       "      <td>5小时0分</td>\n",
       "      <td>38</td>\n",
       "      <td>0</td>\n",
       "      <td>2322.41</td>\n",
       "      <td>3223.5</td>\n",
       "      <td>...</td>\n",
       "      <td>40</td>\n",
       "      <td>0</td>\n",
       "      <td>0</td>\n",
       "      <td>NaN</td>\n",
       "      <td>2</td>\n",
       "      <td>NaN</td>\n",
       "      <td>8.02</td>\n",
       "      <td>1</td>\n",
       "      <td>0</td>\n",
       "      <td>39</td>\n",
       "    </tr>\n",
       "  </tbody>\n",
       "</table>\n",
       "<p>5 rows × 68 columns</p>\n",
       "</div>"
      ],
      "text/plain": [
       "          日期                              门店名        门店id 城市名称     营业时长  \\\n",
       "0 2021-09-30  兄弟烤肉Brothers Kebab  烤肉卷(古北家乐福店)   170435679   上海   12小时1分   \n",
       "1 2021-09-30   兄弟烤肉Brothers Kebab  烤肉卷(南京西路店)   170483226   上海  11小时31分   \n",
       "2 2021-09-30   兄弟烤肉Brothers Kebab  烤肉卷(淮海西路店)  2000261656   上海    0小时0分   \n",
       "3 2021-09-30    兄弟烤肉Brothers Kebab  烤肉卷(奉贤路店)      440866   上海   12小时1分   \n",
       "4 2021-09-30    兄弟烤肉Brothers Kebab  烤肉卷(巨鹿路店)   500151743   上海   12小时1分   \n",
       "\n",
       "  高峰营业时长  有效订单  无效订单       收入     营业额  ...  活动商品数  差评订单数  投诉订单数  投诉订单id  \\\n",
       "0  5小时0分    30     1  2330.98  3084.5  ...     37      0      0     NaN   \n",
       "1  5小时0分    32     1  2168.97  2924.0  ...     37      0      0     NaN   \n",
       "2  0小时0分     0     0     0.00     0.0  ...     32      0      0     NaN   \n",
       "3  5小时0分    32     0  1845.80  2527.5  ...     41      0      0     NaN   \n",
       "4  5小时0分    38     0  2322.41  3223.5  ...     40      0      0     NaN   \n",
       "\n",
       "   出餐超时订单数  出餐超时订单id  单均出餐时长  催单数  拒单数  Week  \n",
       "0        6       NaN    8.48    0    0    39  \n",
       "1        3       NaN    7.72    0    0    39  \n",
       "2        0       NaN    0.00    0    0    39  \n",
       "3        4       NaN    7.44    0    0    39  \n",
       "4        2       NaN    8.02    1    0    39  \n",
       "\n",
       "[5 rows x 68 columns]"
      ]
     },
     "execution_count": 33,
     "metadata": {},
     "output_type": "execute_result"
    }
   ],
   "source": [
    "df.head()"
   ]
  },
  {
   "cell_type": "code",
   "execution_count": 38,
   "metadata": {},
   "outputs": [],
   "source": [
    "df['pandas_SMA_3'] = df.loc[:,'收入'].rolling(window=2).mean()"
   ]
  },
  {
   "cell_type": "code",
   "execution_count": 55,
   "metadata": {},
   "outputs": [],
   "source": [
    "#Total Revenue\n",
    "df_total_rev_group = df.groupby(['日期'])['收入'].sum().sort_index(ascending=False)\n",
    "df_total_rev = pd.DataFrame(df_total_rev_group)\n",
    "df_total_rev['SMA'] = df_total_rev.loc[:,'收入'].rolling(window=7).mean()"
   ]
  },
  {
   "cell_type": "code",
   "execution_count": 63,
   "metadata": {},
   "outputs": [],
   "source": [
    "df_total_rev.reset_index(inplace=True)"
   ]
  },
  {
   "cell_type": "code",
   "execution_count": 65,
   "metadata": {},
   "outputs": [
    {
     "data": {
      "application/vnd.plotly.v1+json": {
       "config": {
        "plotlyServerURL": "https://plot.ly"
       },
       "data": [
        {
         "hovertemplate": "index=%{x}<br>SMA=%{y}<extra></extra>",
         "legendgroup": "",
         "line": {
          "color": "#636efa",
          "dash": "solid"
         },
         "mode": "lines",
         "name": "",
         "orientation": "v",
         "showlegend": false,
         "type": "scatter",
         "x": [
          0,
          1,
          2,
          3,
          4,
          5,
          6,
          7,
          8,
          9,
          10,
          11,
          12,
          13,
          14,
          15,
          16,
          17,
          18,
          19,
          20,
          21,
          22,
          23,
          24,
          25,
          26,
          27,
          28,
          29,
          30,
          31
         ],
         "xaxis": "x",
         "y": [
          null,
          null,
          null,
          null,
          null,
          null,
          16009.565714285713,
          15573.255714285713,
          15311.031428571427,
          15344.965714285712,
          15267.09571428571,
          15632.672857142852,
          15818.274285714282,
          15963.654285714281,
          16382.917142857139,
          16712.787142857138,
          17114.62571428571,
          17409.932857142852,
          17450.63428571428,
          17386.498571428565,
          17717.128571428562,
          17719.408571428565,
          17907.492857142846,
          17751.962857142844,
          17480.0957142857,
          16958.63999999999,
          16303.958571428559,
          15586.272857142843,
          15219.184285714271,
          15084.105714285699,
          14543.849999999986,
          14575.949999999983
         ],
         "yaxis": "y"
        }
       ],
       "layout": {
        "legend": {
         "tracegroupgap": 0
        },
        "margin": {
         "t": 60
        },
        "template": {
         "data": {
          "bar": [
           {
            "error_x": {
             "color": "#2a3f5f"
            },
            "error_y": {
             "color": "#2a3f5f"
            },
            "marker": {
             "line": {
              "color": "#E5ECF6",
              "width": 0.5
             }
            },
            "type": "bar"
           }
          ],
          "barpolar": [
           {
            "marker": {
             "line": {
              "color": "#E5ECF6",
              "width": 0.5
             }
            },
            "type": "barpolar"
           }
          ],
          "carpet": [
           {
            "aaxis": {
             "endlinecolor": "#2a3f5f",
             "gridcolor": "white",
             "linecolor": "white",
             "minorgridcolor": "white",
             "startlinecolor": "#2a3f5f"
            },
            "baxis": {
             "endlinecolor": "#2a3f5f",
             "gridcolor": "white",
             "linecolor": "white",
             "minorgridcolor": "white",
             "startlinecolor": "#2a3f5f"
            },
            "type": "carpet"
           }
          ],
          "choropleth": [
           {
            "colorbar": {
             "outlinewidth": 0,
             "ticks": ""
            },
            "type": "choropleth"
           }
          ],
          "contour": [
           {
            "colorbar": {
             "outlinewidth": 0,
             "ticks": ""
            },
            "colorscale": [
             [
              0,
              "#0d0887"
             ],
             [
              0.1111111111111111,
              "#46039f"
             ],
             [
              0.2222222222222222,
              "#7201a8"
             ],
             [
              0.3333333333333333,
              "#9c179e"
             ],
             [
              0.4444444444444444,
              "#bd3786"
             ],
             [
              0.5555555555555556,
              "#d8576b"
             ],
             [
              0.6666666666666666,
              "#ed7953"
             ],
             [
              0.7777777777777778,
              "#fb9f3a"
             ],
             [
              0.8888888888888888,
              "#fdca26"
             ],
             [
              1,
              "#f0f921"
             ]
            ],
            "type": "contour"
           }
          ],
          "contourcarpet": [
           {
            "colorbar": {
             "outlinewidth": 0,
             "ticks": ""
            },
            "type": "contourcarpet"
           }
          ],
          "heatmap": [
           {
            "colorbar": {
             "outlinewidth": 0,
             "ticks": ""
            },
            "colorscale": [
             [
              0,
              "#0d0887"
             ],
             [
              0.1111111111111111,
              "#46039f"
             ],
             [
              0.2222222222222222,
              "#7201a8"
             ],
             [
              0.3333333333333333,
              "#9c179e"
             ],
             [
              0.4444444444444444,
              "#bd3786"
             ],
             [
              0.5555555555555556,
              "#d8576b"
             ],
             [
              0.6666666666666666,
              "#ed7953"
             ],
             [
              0.7777777777777778,
              "#fb9f3a"
             ],
             [
              0.8888888888888888,
              "#fdca26"
             ],
             [
              1,
              "#f0f921"
             ]
            ],
            "type": "heatmap"
           }
          ],
          "heatmapgl": [
           {
            "colorbar": {
             "outlinewidth": 0,
             "ticks": ""
            },
            "colorscale": [
             [
              0,
              "#0d0887"
             ],
             [
              0.1111111111111111,
              "#46039f"
             ],
             [
              0.2222222222222222,
              "#7201a8"
             ],
             [
              0.3333333333333333,
              "#9c179e"
             ],
             [
              0.4444444444444444,
              "#bd3786"
             ],
             [
              0.5555555555555556,
              "#d8576b"
             ],
             [
              0.6666666666666666,
              "#ed7953"
             ],
             [
              0.7777777777777778,
              "#fb9f3a"
             ],
             [
              0.8888888888888888,
              "#fdca26"
             ],
             [
              1,
              "#f0f921"
             ]
            ],
            "type": "heatmapgl"
           }
          ],
          "histogram": [
           {
            "marker": {
             "colorbar": {
              "outlinewidth": 0,
              "ticks": ""
             }
            },
            "type": "histogram"
           }
          ],
          "histogram2d": [
           {
            "colorbar": {
             "outlinewidth": 0,
             "ticks": ""
            },
            "colorscale": [
             [
              0,
              "#0d0887"
             ],
             [
              0.1111111111111111,
              "#46039f"
             ],
             [
              0.2222222222222222,
              "#7201a8"
             ],
             [
              0.3333333333333333,
              "#9c179e"
             ],
             [
              0.4444444444444444,
              "#bd3786"
             ],
             [
              0.5555555555555556,
              "#d8576b"
             ],
             [
              0.6666666666666666,
              "#ed7953"
             ],
             [
              0.7777777777777778,
              "#fb9f3a"
             ],
             [
              0.8888888888888888,
              "#fdca26"
             ],
             [
              1,
              "#f0f921"
             ]
            ],
            "type": "histogram2d"
           }
          ],
          "histogram2dcontour": [
           {
            "colorbar": {
             "outlinewidth": 0,
             "ticks": ""
            },
            "colorscale": [
             [
              0,
              "#0d0887"
             ],
             [
              0.1111111111111111,
              "#46039f"
             ],
             [
              0.2222222222222222,
              "#7201a8"
             ],
             [
              0.3333333333333333,
              "#9c179e"
             ],
             [
              0.4444444444444444,
              "#bd3786"
             ],
             [
              0.5555555555555556,
              "#d8576b"
             ],
             [
              0.6666666666666666,
              "#ed7953"
             ],
             [
              0.7777777777777778,
              "#fb9f3a"
             ],
             [
              0.8888888888888888,
              "#fdca26"
             ],
             [
              1,
              "#f0f921"
             ]
            ],
            "type": "histogram2dcontour"
           }
          ],
          "mesh3d": [
           {
            "colorbar": {
             "outlinewidth": 0,
             "ticks": ""
            },
            "type": "mesh3d"
           }
          ],
          "parcoords": [
           {
            "line": {
             "colorbar": {
              "outlinewidth": 0,
              "ticks": ""
             }
            },
            "type": "parcoords"
           }
          ],
          "pie": [
           {
            "automargin": true,
            "type": "pie"
           }
          ],
          "scatter": [
           {
            "marker": {
             "colorbar": {
              "outlinewidth": 0,
              "ticks": ""
             }
            },
            "type": "scatter"
           }
          ],
          "scatter3d": [
           {
            "line": {
             "colorbar": {
              "outlinewidth": 0,
              "ticks": ""
             }
            },
            "marker": {
             "colorbar": {
              "outlinewidth": 0,
              "ticks": ""
             }
            },
            "type": "scatter3d"
           }
          ],
          "scattercarpet": [
           {
            "marker": {
             "colorbar": {
              "outlinewidth": 0,
              "ticks": ""
             }
            },
            "type": "scattercarpet"
           }
          ],
          "scattergeo": [
           {
            "marker": {
             "colorbar": {
              "outlinewidth": 0,
              "ticks": ""
             }
            },
            "type": "scattergeo"
           }
          ],
          "scattergl": [
           {
            "marker": {
             "colorbar": {
              "outlinewidth": 0,
              "ticks": ""
             }
            },
            "type": "scattergl"
           }
          ],
          "scattermapbox": [
           {
            "marker": {
             "colorbar": {
              "outlinewidth": 0,
              "ticks": ""
             }
            },
            "type": "scattermapbox"
           }
          ],
          "scatterpolar": [
           {
            "marker": {
             "colorbar": {
              "outlinewidth": 0,
              "ticks": ""
             }
            },
            "type": "scatterpolar"
           }
          ],
          "scatterpolargl": [
           {
            "marker": {
             "colorbar": {
              "outlinewidth": 0,
              "ticks": ""
             }
            },
            "type": "scatterpolargl"
           }
          ],
          "scatterternary": [
           {
            "marker": {
             "colorbar": {
              "outlinewidth": 0,
              "ticks": ""
             }
            },
            "type": "scatterternary"
           }
          ],
          "surface": [
           {
            "colorbar": {
             "outlinewidth": 0,
             "ticks": ""
            },
            "colorscale": [
             [
              0,
              "#0d0887"
             ],
             [
              0.1111111111111111,
              "#46039f"
             ],
             [
              0.2222222222222222,
              "#7201a8"
             ],
             [
              0.3333333333333333,
              "#9c179e"
             ],
             [
              0.4444444444444444,
              "#bd3786"
             ],
             [
              0.5555555555555556,
              "#d8576b"
             ],
             [
              0.6666666666666666,
              "#ed7953"
             ],
             [
              0.7777777777777778,
              "#fb9f3a"
             ],
             [
              0.8888888888888888,
              "#fdca26"
             ],
             [
              1,
              "#f0f921"
             ]
            ],
            "type": "surface"
           }
          ],
          "table": [
           {
            "cells": {
             "fill": {
              "color": "#EBF0F8"
             },
             "line": {
              "color": "white"
             }
            },
            "header": {
             "fill": {
              "color": "#C8D4E3"
             },
             "line": {
              "color": "white"
             }
            },
            "type": "table"
           }
          ]
         },
         "layout": {
          "annotationdefaults": {
           "arrowcolor": "#2a3f5f",
           "arrowhead": 0,
           "arrowwidth": 1
          },
          "autotypenumbers": "strict",
          "coloraxis": {
           "colorbar": {
            "outlinewidth": 0,
            "ticks": ""
           }
          },
          "colorscale": {
           "diverging": [
            [
             0,
             "#8e0152"
            ],
            [
             0.1,
             "#c51b7d"
            ],
            [
             0.2,
             "#de77ae"
            ],
            [
             0.3,
             "#f1b6da"
            ],
            [
             0.4,
             "#fde0ef"
            ],
            [
             0.5,
             "#f7f7f7"
            ],
            [
             0.6,
             "#e6f5d0"
            ],
            [
             0.7,
             "#b8e186"
            ],
            [
             0.8,
             "#7fbc41"
            ],
            [
             0.9,
             "#4d9221"
            ],
            [
             1,
             "#276419"
            ]
           ],
           "sequential": [
            [
             0,
             "#0d0887"
            ],
            [
             0.1111111111111111,
             "#46039f"
            ],
            [
             0.2222222222222222,
             "#7201a8"
            ],
            [
             0.3333333333333333,
             "#9c179e"
            ],
            [
             0.4444444444444444,
             "#bd3786"
            ],
            [
             0.5555555555555556,
             "#d8576b"
            ],
            [
             0.6666666666666666,
             "#ed7953"
            ],
            [
             0.7777777777777778,
             "#fb9f3a"
            ],
            [
             0.8888888888888888,
             "#fdca26"
            ],
            [
             1,
             "#f0f921"
            ]
           ],
           "sequentialminus": [
            [
             0,
             "#0d0887"
            ],
            [
             0.1111111111111111,
             "#46039f"
            ],
            [
             0.2222222222222222,
             "#7201a8"
            ],
            [
             0.3333333333333333,
             "#9c179e"
            ],
            [
             0.4444444444444444,
             "#bd3786"
            ],
            [
             0.5555555555555556,
             "#d8576b"
            ],
            [
             0.6666666666666666,
             "#ed7953"
            ],
            [
             0.7777777777777778,
             "#fb9f3a"
            ],
            [
             0.8888888888888888,
             "#fdca26"
            ],
            [
             1,
             "#f0f921"
            ]
           ]
          },
          "colorway": [
           "#636efa",
           "#EF553B",
           "#00cc96",
           "#ab63fa",
           "#FFA15A",
           "#19d3f3",
           "#FF6692",
           "#B6E880",
           "#FF97FF",
           "#FECB52"
          ],
          "font": {
           "color": "#2a3f5f"
          },
          "geo": {
           "bgcolor": "white",
           "lakecolor": "white",
           "landcolor": "#E5ECF6",
           "showlakes": true,
           "showland": true,
           "subunitcolor": "white"
          },
          "hoverlabel": {
           "align": "left"
          },
          "hovermode": "closest",
          "mapbox": {
           "style": "light"
          },
          "paper_bgcolor": "white",
          "plot_bgcolor": "#E5ECF6",
          "polar": {
           "angularaxis": {
            "gridcolor": "white",
            "linecolor": "white",
            "ticks": ""
           },
           "bgcolor": "#E5ECF6",
           "radialaxis": {
            "gridcolor": "white",
            "linecolor": "white",
            "ticks": ""
           }
          },
          "scene": {
           "xaxis": {
            "backgroundcolor": "#E5ECF6",
            "gridcolor": "white",
            "gridwidth": 2,
            "linecolor": "white",
            "showbackground": true,
            "ticks": "",
            "zerolinecolor": "white"
           },
           "yaxis": {
            "backgroundcolor": "#E5ECF6",
            "gridcolor": "white",
            "gridwidth": 2,
            "linecolor": "white",
            "showbackground": true,
            "ticks": "",
            "zerolinecolor": "white"
           },
           "zaxis": {
            "backgroundcolor": "#E5ECF6",
            "gridcolor": "white",
            "gridwidth": 2,
            "linecolor": "white",
            "showbackground": true,
            "ticks": "",
            "zerolinecolor": "white"
           }
          },
          "shapedefaults": {
           "line": {
            "color": "#2a3f5f"
           }
          },
          "ternary": {
           "aaxis": {
            "gridcolor": "white",
            "linecolor": "white",
            "ticks": ""
           },
           "baxis": {
            "gridcolor": "white",
            "linecolor": "white",
            "ticks": ""
           },
           "bgcolor": "#E5ECF6",
           "caxis": {
            "gridcolor": "white",
            "linecolor": "white",
            "ticks": ""
           }
          },
          "title": {
           "x": 0.05
          },
          "xaxis": {
           "automargin": true,
           "gridcolor": "white",
           "linecolor": "white",
           "ticks": "",
           "title": {
            "standoff": 15
           },
           "zerolinecolor": "white",
           "zerolinewidth": 2
          },
          "yaxis": {
           "automargin": true,
           "gridcolor": "white",
           "linecolor": "white",
           "ticks": "",
           "title": {
            "standoff": 15
           },
           "zerolinecolor": "white",
           "zerolinewidth": 2
          }
         }
        },
        "title": {
         "text": "Total Revenue",
         "x": 0.5
        },
        "xaxis": {
         "anchor": "y",
         "domain": [
          0,
          1
         ],
         "title": {
          "text": "index"
         }
        },
        "yaxis": {
         "anchor": "x",
         "domain": [
          0,
          1
         ],
         "title": {
          "text": "Revenue"
         }
        }
       }
      }
     },
     "metadata": {},
     "output_type": "display_data"
    }
   ],
   "source": [
    "#Plot total revenue\n",
    "sma_fig = px.line(df_total_rev ,y='SMA')\n",
    "sma_fig.update_layout(title_text='Total Revenue', title_x=0.5 )\n",
    "sma_fig.update_yaxes(title_text = 'Revenue')"
   ]
  },
  {
   "cell_type": "code",
   "execution_count": null,
   "metadata": {},
   "outputs": [],
   "source": []
  }
 ],
 "metadata": {
  "interpreter": {
   "hash": "329606d4321c67f753d380ee3aa27fab63a75f9de4cecc5cfcf9c196c21abf6a"
  },
  "kernelspec": {
   "display_name": "Python 3.8.5 64-bit ('base': conda)",
   "language": "python",
   "name": "python3"
  },
  "language_info": {
   "codemirror_mode": {
    "name": "ipython",
    "version": 3
   },
   "file_extension": ".py",
   "mimetype": "text/x-python",
   "name": "python",
   "nbconvert_exporter": "python",
   "pygments_lexer": "ipython3",
   "version": "3.8.5"
  },
  "orig_nbformat": 4
 },
 "nbformat": 4,
 "nbformat_minor": 2
}
