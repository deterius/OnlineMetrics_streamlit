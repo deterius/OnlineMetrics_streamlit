{
 "cells": [
  {
   "cell_type": "code",
   "execution_count": 2,
   "metadata": {},
   "outputs": [],
   "source": [
    "# This is cleans and merges the order froms FlipOs order info and Eleme Orders for retention analysis\n",
    "\n",
    "import streamlit as st\n",
    "import pandas as pd\n",
    "import numpy as np\n",
    "import seaborn as sns\n",
    "import openpyxl\n",
    "from PIL import Image\n",
    "from openpyxl.reader.excel import load_workbook\n",
    "from openpyxl.workbook import Workbook\n",
    "\n",
    "# Import functions\n",
    "# from helper_func import *  \n"
   ]
  },
  {
   "cell_type": "code",
   "execution_count": 3,
   "metadata": {},
   "outputs": [],
   "source": [
    "df_ele = pd.read_csv('rawdata/eleorders10.csv')\n",
    "df_flip = pd.read_csv('rawdata/fliporder10.csv')"
   ]
  },
  {
   "cell_type": "code",
   "execution_count": 4,
   "metadata": {},
   "outputs": [],
   "source": [
    "df_flip= df_flip[df_flip['外卖平台'] == '饿了么']"
   ]
  },
  {
   "cell_type": "code",
   "execution_count": 5,
   "metadata": {},
   "outputs": [],
   "source": [
    "df_ele = df_ele[['日期','订单单号','商品信息','活动信息','新老顾客']]\n",
    "df_flip = df_flip[['消费门店','订单号','详细地址','经纬度','消费金额']]"
   ]
  },
  {
   "cell_type": "code",
   "execution_count": 6,
   "metadata": {},
   "outputs": [],
   "source": [
    "df_flip = df_flip[~df_flip['订单号'].str.contains('R')]"
   ]
  },
  {
   "cell_type": "code",
   "execution_count": 7,
   "metadata": {},
   "outputs": [],
   "source": [
    "df_flip['订单号'] = df_flip['订单号'].astype(float)\n",
    "df_ele.rename(columns={'订单单号':'订单号'}, inplace=True)\n",
    "df_ele['订单号'] = df_ele['订单号'].astype(float)\n"
   ]
  },
  {
   "cell_type": "code",
   "execution_count": 8,
   "metadata": {},
   "outputs": [],
   "source": [
    "df = df_ele.merge(df_flip, on='订单号' )"
   ]
  },
  {
   "cell_type": "code",
   "execution_count": 9,
   "metadata": {},
   "outputs": [
    {
     "data": {
      "text/html": [
       "<div>\n",
       "<style scoped>\n",
       "    .dataframe tbody tr th:only-of-type {\n",
       "        vertical-align: middle;\n",
       "    }\n",
       "\n",
       "    .dataframe tbody tr th {\n",
       "        vertical-align: top;\n",
       "    }\n",
       "\n",
       "    .dataframe thead th {\n",
       "        text-align: right;\n",
       "    }\n",
       "</style>\n",
       "<table border=\"1\" class=\"dataframe\">\n",
       "  <thead>\n",
       "    <tr style=\"text-align: right;\">\n",
       "      <th></th>\n",
       "      <th>日期</th>\n",
       "      <th>订单号</th>\n",
       "      <th>商品信息</th>\n",
       "      <th>活动信息</th>\n",
       "      <th>新老顾客</th>\n",
       "      <th>消费门店</th>\n",
       "      <th>详细地址</th>\n",
       "      <th>经纬度</th>\n",
       "      <th>消费金额</th>\n",
       "    </tr>\n",
       "  </thead>\n",
       "  <tbody>\n",
       "    <tr>\n",
       "      <th>0</th>\n",
       "      <td>2021-10-01</td>\n",
       "      <td>5.038041e+18</td>\n",
       "      <td>希腊酸奶黄瓜酱Tzatziki_1*6.0+孜然味炸鸡柳Chicken strips_1*2...</td>\n",
       "      <td>【减配送费】:商户补贴2.0_规则:配送费减免2.0+【门店新客立减】:商户补贴1.0_规则...</td>\n",
       "      <td>新</td>\n",
       "      <td>Brothers Kebab兄弟烤肉店（古北家乐福店GB）</td>\n",
       "      <td>古北壹号8号楼1002</td>\n",
       "      <td>31.186635, 121.396013</td>\n",
       "      <td>192.7</td>\n",
       "    </tr>\n",
       "    <tr>\n",
       "      <th>1</th>\n",
       "      <td>2021-10-01</td>\n",
       "      <td>5.038041e+18</td>\n",
       "      <td>不需要餐具 No Utensils_1*0.0+超量烤肉沙瓦玛Extra Meat Shaw...</td>\n",
       "      <td>【招商】招商满减:平台补贴4.0_商户补贴4.0_规则:满_46.0减8.0+【招商】招商满...</td>\n",
       "      <td>老</td>\n",
       "      <td>Brothers Kebab兄弟烤肉店（古北家乐福店GB）</td>\n",
       "      <td>上海普天信息产业园c4号楼5楼上海米哈游（送上楼否则差评）</td>\n",
       "      <td>31.176941, 121.418117</td>\n",
       "      <td>58.0</td>\n",
       "    </tr>\n",
       "    <tr>\n",
       "      <th>2</th>\n",
       "      <td>2021-10-01</td>\n",
       "      <td>5.038046e+18</td>\n",
       "      <td>需要餐具 Need Utensils_1*1.0+卡巴拼盘Kabab Plate-鸡牛混合肉...</td>\n",
       "      <td>【减配送费】:商户补贴2.0_规则:配送费减免2.0+【门店新客立减】:商户补贴1.0_规则...</td>\n",
       "      <td>新</td>\n",
       "      <td>Brothers Kebab兄弟烤肉店（古北家乐福店GB）</td>\n",
       "      <td>中邮物流8楼805室（放架子上）</td>\n",
       "      <td>31.182035, 121.373830</td>\n",
       "      <td>53.6</td>\n",
       "    </tr>\n",
       "    <tr>\n",
       "      <th>3</th>\n",
       "      <td>2021-10-01</td>\n",
       "      <td>5.038053e+18</td>\n",
       "      <td>土耳其肉卷套餐 Wrap Set-牛肉 Beef_1*84.0+不需要餐具 No Utens...</td>\n",
       "      <td>【招商】招商满减:平台补贴4.0_商户补贴4.0_规则:满_69.0减8.0+【招商】招商满...</td>\n",
       "      <td>老</td>\n",
       "      <td>Brothers Kebab兄弟烤肉店（古北家乐福店GB）</td>\n",
       "      <td>仙二小区仙霞路450号202</td>\n",
       "      <td>31.205430, 121.393077</td>\n",
       "      <td>78.5</td>\n",
       "    </tr>\n",
       "    <tr>\n",
       "      <th>4</th>\n",
       "      <td>2021-10-01</td>\n",
       "      <td>5.038057e+18</td>\n",
       "      <td>不需要餐具 No Utensils_1*0.0+烤肉蔬菜色拉Fattoush Salad-牛...</td>\n",
       "      <td>【招商】招商满减:平台补贴4.0_商户补贴4.0_规则:满_46.0减8.0+【减配送费】:...</td>\n",
       "      <td>新</td>\n",
       "      <td>Brothers Kebab兄弟烤肉店（古北家乐福店GB）</td>\n",
       "      <td>虹桥路996弄7幢上海市长宁区长虹小区虹桥路996弄7号602室</td>\n",
       "      <td>31.195052, 121.420875</td>\n",
       "      <td>45.6</td>\n",
       "    </tr>\n",
       "  </tbody>\n",
       "</table>\n",
       "</div>"
      ],
      "text/plain": [
       "           日期           订单号  \\\n",
       "0  2021-10-01  5.038041e+18   \n",
       "1  2021-10-01  5.038041e+18   \n",
       "2  2021-10-01  5.038046e+18   \n",
       "3  2021-10-01  5.038053e+18   \n",
       "4  2021-10-01  5.038057e+18   \n",
       "\n",
       "                                                商品信息  \\\n",
       "0  希腊酸奶黄瓜酱Tzatziki_1*6.0+孜然味炸鸡柳Chicken strips_1*2...   \n",
       "1  不需要餐具 No Utensils_1*0.0+超量烤肉沙瓦玛Extra Meat Shaw...   \n",
       "2  需要餐具 Need Utensils_1*1.0+卡巴拼盘Kabab Plate-鸡牛混合肉...   \n",
       "3  土耳其肉卷套餐 Wrap Set-牛肉 Beef_1*84.0+不需要餐具 No Utens...   \n",
       "4  不需要餐具 No Utensils_1*0.0+烤肉蔬菜色拉Fattoush Salad-牛...   \n",
       "\n",
       "                                                活动信息 新老顾客  \\\n",
       "0  【减配送费】:商户补贴2.0_规则:配送费减免2.0+【门店新客立减】:商户补贴1.0_规则...    新   \n",
       "1  【招商】招商满减:平台补贴4.0_商户补贴4.0_规则:满_46.0减8.0+【招商】招商满...    老   \n",
       "2  【减配送费】:商户补贴2.0_规则:配送费减免2.0+【门店新客立减】:商户补贴1.0_规则...    新   \n",
       "3  【招商】招商满减:平台补贴4.0_商户补贴4.0_规则:满_69.0减8.0+【招商】招商满...    老   \n",
       "4  【招商】招商满减:平台补贴4.0_商户补贴4.0_规则:满_46.0减8.0+【减配送费】:...    新   \n",
       "\n",
       "                            消费门店                              详细地址  \\\n",
       "0  Brothers Kebab兄弟烤肉店（古北家乐福店GB）                       古北壹号8号楼1002   \n",
       "1  Brothers Kebab兄弟烤肉店（古北家乐福店GB）     上海普天信息产业园c4号楼5楼上海米哈游（送上楼否则差评）   \n",
       "2  Brothers Kebab兄弟烤肉店（古北家乐福店GB）                  中邮物流8楼805室（放架子上）   \n",
       "3  Brothers Kebab兄弟烤肉店（古北家乐福店GB）                    仙二小区仙霞路450号202   \n",
       "4  Brothers Kebab兄弟烤肉店（古北家乐福店GB）  虹桥路996弄7幢上海市长宁区长虹小区虹桥路996弄7号602室   \n",
       "\n",
       "                     经纬度   消费金额  \n",
       "0  31.186635, 121.396013  192.7  \n",
       "1  31.176941, 121.418117   58.0  \n",
       "2  31.182035, 121.373830   53.6  \n",
       "3  31.205430, 121.393077   78.5  \n",
       "4  31.195052, 121.420875   45.6  "
      ]
     },
     "execution_count": 9,
     "metadata": {},
     "output_type": "execute_result"
    }
   ],
   "source": [
    "df.head()"
   ]
  },
  {
   "cell_type": "code",
   "execution_count": 10,
   "metadata": {},
   "outputs": [
    {
     "data": {
      "text/html": [
       "<div>\n",
       "<style scoped>\n",
       "    .dataframe tbody tr th:only-of-type {\n",
       "        vertical-align: middle;\n",
       "    }\n",
       "\n",
       "    .dataframe tbody tr th {\n",
       "        vertical-align: top;\n",
       "    }\n",
       "\n",
       "    .dataframe thead th {\n",
       "        text-align: right;\n",
       "    }\n",
       "</style>\n",
       "<table border=\"1\" class=\"dataframe\">\n",
       "  <thead>\n",
       "    <tr style=\"text-align: right;\">\n",
       "      <th></th>\n",
       "      <th>Date</th>\n",
       "      <th>Order Number</th>\n",
       "      <th>Product Info</th>\n",
       "      <th>Promo Info</th>\n",
       "      <th>New/Returning</th>\n",
       "      <th>门店名称</th>\n",
       "      <th>Address</th>\n",
       "      <th>Location</th>\n",
       "      <th>Customer Price</th>\n",
       "    </tr>\n",
       "  </thead>\n",
       "  <tbody>\n",
       "    <tr>\n",
       "      <th>0</th>\n",
       "      <td>2021-10-01</td>\n",
       "      <td>5.038041e+18</td>\n",
       "      <td>希腊酸奶黄瓜酱Tzatziki_1*6.0+孜然味炸鸡柳Chicken strips_1*2...</td>\n",
       "      <td>【减配送费】:商户补贴2.0_规则:配送费减免2.0+【门店新客立减】:商户补贴1.0_规则...</td>\n",
       "      <td>新</td>\n",
       "      <td>Brothers Kebab兄弟烤肉店（古北家乐福店GB）</td>\n",
       "      <td>古北壹号8号楼1002</td>\n",
       "      <td>31.186635, 121.396013</td>\n",
       "      <td>192.7</td>\n",
       "    </tr>\n",
       "    <tr>\n",
       "      <th>1</th>\n",
       "      <td>2021-10-01</td>\n",
       "      <td>5.038041e+18</td>\n",
       "      <td>不需要餐具 No Utensils_1*0.0+超量烤肉沙瓦玛Extra Meat Shaw...</td>\n",
       "      <td>【招商】招商满减:平台补贴4.0_商户补贴4.0_规则:满_46.0减8.0+【招商】招商满...</td>\n",
       "      <td>老</td>\n",
       "      <td>Brothers Kebab兄弟烤肉店（古北家乐福店GB）</td>\n",
       "      <td>上海普天信息产业园c4号楼5楼上海米哈游（送上楼否则差评）</td>\n",
       "      <td>31.176941, 121.418117</td>\n",
       "      <td>58.0</td>\n",
       "    </tr>\n",
       "    <tr>\n",
       "      <th>2</th>\n",
       "      <td>2021-10-01</td>\n",
       "      <td>5.038046e+18</td>\n",
       "      <td>需要餐具 Need Utensils_1*1.0+卡巴拼盘Kabab Plate-鸡牛混合肉...</td>\n",
       "      <td>【减配送费】:商户补贴2.0_规则:配送费减免2.0+【门店新客立减】:商户补贴1.0_规则...</td>\n",
       "      <td>新</td>\n",
       "      <td>Brothers Kebab兄弟烤肉店（古北家乐福店GB）</td>\n",
       "      <td>中邮物流8楼805室（放架子上）</td>\n",
       "      <td>31.182035, 121.373830</td>\n",
       "      <td>53.6</td>\n",
       "    </tr>\n",
       "    <tr>\n",
       "      <th>3</th>\n",
       "      <td>2021-10-01</td>\n",
       "      <td>5.038053e+18</td>\n",
       "      <td>土耳其肉卷套餐 Wrap Set-牛肉 Beef_1*84.0+不需要餐具 No Utens...</td>\n",
       "      <td>【招商】招商满减:平台补贴4.0_商户补贴4.0_规则:满_69.0减8.0+【招商】招商满...</td>\n",
       "      <td>老</td>\n",
       "      <td>Brothers Kebab兄弟烤肉店（古北家乐福店GB）</td>\n",
       "      <td>仙二小区仙霞路450号202</td>\n",
       "      <td>31.205430, 121.393077</td>\n",
       "      <td>78.5</td>\n",
       "    </tr>\n",
       "    <tr>\n",
       "      <th>4</th>\n",
       "      <td>2021-10-01</td>\n",
       "      <td>5.038057e+18</td>\n",
       "      <td>不需要餐具 No Utensils_1*0.0+烤肉蔬菜色拉Fattoush Salad-牛...</td>\n",
       "      <td>【招商】招商满减:平台补贴4.0_商户补贴4.0_规则:满_46.0减8.0+【减配送费】:...</td>\n",
       "      <td>新</td>\n",
       "      <td>Brothers Kebab兄弟烤肉店（古北家乐福店GB）</td>\n",
       "      <td>虹桥路996弄7幢上海市长宁区长虹小区虹桥路996弄7号602室</td>\n",
       "      <td>31.195052, 121.420875</td>\n",
       "      <td>45.6</td>\n",
       "    </tr>\n",
       "  </tbody>\n",
       "</table>\n",
       "</div>"
      ],
      "text/plain": [
       "         Date  Order Number  \\\n",
       "0  2021-10-01  5.038041e+18   \n",
       "1  2021-10-01  5.038041e+18   \n",
       "2  2021-10-01  5.038046e+18   \n",
       "3  2021-10-01  5.038053e+18   \n",
       "4  2021-10-01  5.038057e+18   \n",
       "\n",
       "                                        Product Info  \\\n",
       "0  希腊酸奶黄瓜酱Tzatziki_1*6.0+孜然味炸鸡柳Chicken strips_1*2...   \n",
       "1  不需要餐具 No Utensils_1*0.0+超量烤肉沙瓦玛Extra Meat Shaw...   \n",
       "2  需要餐具 Need Utensils_1*1.0+卡巴拼盘Kabab Plate-鸡牛混合肉...   \n",
       "3  土耳其肉卷套餐 Wrap Set-牛肉 Beef_1*84.0+不需要餐具 No Utens...   \n",
       "4  不需要餐具 No Utensils_1*0.0+烤肉蔬菜色拉Fattoush Salad-牛...   \n",
       "\n",
       "                                          Promo Info New/Returning  \\\n",
       "0  【减配送费】:商户补贴2.0_规则:配送费减免2.0+【门店新客立减】:商户补贴1.0_规则...             新   \n",
       "1  【招商】招商满减:平台补贴4.0_商户补贴4.0_规则:满_46.0减8.0+【招商】招商满...             老   \n",
       "2  【减配送费】:商户补贴2.0_规则:配送费减免2.0+【门店新客立减】:商户补贴1.0_规则...             新   \n",
       "3  【招商】招商满减:平台补贴4.0_商户补贴4.0_规则:满_69.0减8.0+【招商】招商满...             老   \n",
       "4  【招商】招商满减:平台补贴4.0_商户补贴4.0_规则:满_46.0减8.0+【减配送费】:...             新   \n",
       "\n",
       "                            门店名称                           Address  \\\n",
       "0  Brothers Kebab兄弟烤肉店（古北家乐福店GB）                       古北壹号8号楼1002   \n",
       "1  Brothers Kebab兄弟烤肉店（古北家乐福店GB）     上海普天信息产业园c4号楼5楼上海米哈游（送上楼否则差评）   \n",
       "2  Brothers Kebab兄弟烤肉店（古北家乐福店GB）                  中邮物流8楼805室（放架子上）   \n",
       "3  Brothers Kebab兄弟烤肉店（古北家乐福店GB）                    仙二小区仙霞路450号202   \n",
       "4  Brothers Kebab兄弟烤肉店（古北家乐福店GB）  虹桥路996弄7幢上海市长宁区长虹小区虹桥路996弄7号602室   \n",
       "\n",
       "                Location  Customer Price  \n",
       "0  31.186635, 121.396013           192.7  \n",
       "1  31.176941, 121.418117            58.0  \n",
       "2  31.182035, 121.373830            53.6  \n",
       "3  31.205430, 121.393077            78.5  \n",
       "4  31.195052, 121.420875            45.6  "
      ]
     },
     "execution_count": 10,
     "metadata": {},
     "output_type": "execute_result"
    }
   ],
   "source": [
    "df.rename(columns={'新老顾客':'New/Returning','日期':'Date','订单号':'Order Number', '商品信息':'Product Info','活动信息':'Promo Info','消费门店':'门店名称','详细地址':'Address','经纬度':'Location','消费金额':'Customer Price'}, inplace=True)\n",
    "df.head()"
   ]
  },
  {
   "cell_type": "code",
   "execution_count": 11,
   "metadata": {},
   "outputs": [],
   "source": [
    "df = df[['门店名称','Date','Order Number','New/Returning','Product Info','Promo Info','Customer Price','Address','Location']]"
   ]
  },
  {
   "cell_type": "code",
   "execution_count": 12,
   "metadata": {},
   "outputs": [],
   "source": [
    "df['Date'] = pd.to_datetime(df['Date'])\n",
    "df['Week'] = df['Date'].dt.isocalendar().week\n",
    "df['Month'] = df['Date'].dt.month\n",
    "#Replace 53 week with week 0\n",
    "df['Week'] = df['Week'].replace([53],[0])"
   ]
  },
  {
   "cell_type": "code",
   "execution_count": 13,
   "metadata": {},
   "outputs": [
    {
     "data": {
      "text/plain": [
       "array(['Brothers Kebab兄弟烤肉店（古北家乐福店GB）', 'Brothers Kebab兄弟烤肉店（南京西路店TS）',\n",
       "       'Brothers Kebab兄弟烤肉店（奉贤路店FX）', 'Brothers Kebab兄弟烤肉店（巨鹿路店JL）',\n",
       "       'Brothers Kebab 兄弟烤肉店（长寿路店CS）', 'Brothers Kebab 兄弟烤肉店（漕溪路店CX）',\n",
       "       'Brothers Kebab兄弟烤肉店（长宁区店ZY）', 'Brothers Kebab兄弟烤肉店（南泉北路店PD）',\n",
       "       'Brothers Kebab 兄弟烤肉店（青岛店QD1）', 'Brothers Kebab兄弟烤肉店（淮海西路店MG）'],\n",
       "      dtype=object)"
      ]
     },
     "execution_count": 13,
     "metadata": {},
     "output_type": "execute_result"
    }
   ],
   "source": [
    "df['门店名称'].unique()"
   ]
  },
  {
   "cell_type": "code",
   "execution_count": 14,
   "metadata": {},
   "outputs": [],
   "source": [
    "df.replace(['Brothers Kebab兄弟烤肉店（古北家乐福店GB）', 'Brothers Kebab兄弟烤肉店（南京西路店TS）',\n",
    "       'Brothers Kebab兄弟烤肉店（淮海西路店MG）', 'Brothers Kebab兄弟烤肉店（奉贤路店FX）',\n",
    "       'Brothers Kebab兄弟烤肉店（巨鹿路店JL）', 'Brothers Kebab 兄弟烤肉店（长寿路店CS）',\n",
    "       'Brothers Kebab 兄弟烤肉店（漕溪路店CX）', 'Brothers Kebab兄弟烤肉店（长宁区店ZY）',\n",
    "       'Brothers Kebab兄弟烤肉店（南泉北路店PD）', 'Brothers Kebab 兄弟烤肉店（青岛店QD1）'], ['6 Gubei','5 TS', '7 Magnolia', '2 Fengxian','8 Julu', '9 Changshou', '10 Caoxi',\n",
    "       '4 Zunyi', '3 Pudong','QD 1'], inplace=True)"
   ]
  },
  {
   "cell_type": "code",
   "execution_count": 15,
   "metadata": {},
   "outputs": [],
   "source": [
    "df.to_csv('ordersMerged.csv')"
   ]
  },
  {
   "cell_type": "code",
   "execution_count": null,
   "metadata": {},
   "outputs": [],
   "source": []
  }
 ],
 "metadata": {
  "interpreter": {
   "hash": "329606d4321c67f753d380ee3aa27fab63a75f9de4cecc5cfcf9c196c21abf6a"
  },
  "kernelspec": {
   "display_name": "Python 3.8.5 64-bit ('base': conda)",
   "name": "python3"
  },
  "language_info": {
   "codemirror_mode": {
    "name": "ipython",
    "version": 3
   },
   "file_extension": ".py",
   "mimetype": "text/x-python",
   "name": "python",
   "nbconvert_exporter": "python",
   "pygments_lexer": "ipython3",
   "version": "3.8.5"
  },
  "orig_nbformat": 4
 },
 "nbformat": 4,
 "nbformat_minor": 2
}
