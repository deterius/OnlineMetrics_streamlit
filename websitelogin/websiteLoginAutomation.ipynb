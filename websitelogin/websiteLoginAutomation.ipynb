{
 "cells": [
  {
   "cell_type": "code",
   "execution_count": 71,
   "source": [
    "# https://medium.com/@kikigulab/how-to-automate-opening-and-login-to-websites-with-python-6aeaf1f6ae98\n",
    "# Tutorial\n",
    "\n",
    "from selenium import webdriver\n",
    "from webdriver_manager.chrome import ChromeDriverManager\n",
    "from selenium.webdriver.support.ui import WebDriverWait\n",
    "from selenium.webdriver.support import expected_conditions as EC\n",
    "from selenium.webdriver.common.by import By\n",
    "from time import sleep\n",
    "from time import time\n",
    "\n",
    "\n",
    "import yaml"
   ],
   "outputs": [],
   "metadata": {}
  },
  {
   "cell_type": "code",
   "execution_count": 12,
   "source": [
    "conf = yaml.load(open('loginDetails.yml'))\n",
    "myFlipUser = conf['fo_user']['user']\n",
    "myFlipPassword = conf['fo_user']['password']\n",
    "myFlipBrand = conf['fo_user']['brand']\n",
    "\n",
    "url = 'https://auth.51hchc.com/login'"
   ],
   "outputs": [
    {
     "output_type": "stream",
     "name": "stderr",
     "text": [
      "<ipython-input-12-cbb773d5a8a0>:1: YAMLLoadWarning: calling yaml.load() without Loader=... is deprecated, as the default Loader is unsafe. Please read https://msg.pyyaml.org/load for full details.\n",
      "  conf = yaml.load(open('loginDetails.yml'))\n"
     ]
    }
   ],
   "metadata": {}
  },
  {
   "cell_type": "code",
   "execution_count": 60,
   "source": [
    "\n",
    "\n",
    "def login(url,username,password,brandID):\n",
    "   options = webdriver.ChromeOptions() \n",
    "   options.add_argument(\"download.default_directory=/Users/simeonbourim/ML/OnlineMetrics/websitelogin\")\n",
    "   driver = webdriver.Chrome(ChromeDriverManager().install(), options=options)\n",
    "\n",
    "   driver.get(url)\n",
    "   sleep(2)\n",
    "   driver.find_element_by_id('credential-id').send_keys(username)\n",
    "   driver.find_element_by_id('password').send_keys(password)\n",
    "   driver.find_element_by_id('hq-code').send_keys(brandID)\n",
    "   driver.find_element_by_css_selector('form .buttons input[type=\\'submit\\']').click()\n",
    "\n",
    "   print('worked')\n",
    "\n",
    "login(url,myFlipUser,myFlipPassword,myFlipBrand)"
   ],
   "outputs": [
    {
     "output_type": "stream",
     "name": "stderr",
     "text": [
      "\n",
      "\n",
      "====== WebDriver manager ======\n",
      "Current google-chrome version is 92.0.4515\n",
      "Get LATEST driver version for 92.0.4515\n",
      "Driver [/Users/simeonbourim/.wdm/drivers/chromedriver/mac64/92.0.4515.43/chromedriver] found in cache\n"
     ]
    },
    {
     "output_type": "stream",
     "name": "stdout",
     "text": [
      "worked\n"
     ]
    }
   ],
   "metadata": {}
  },
  {
   "cell_type": "code",
   "execution_count": null,
   "source": [
    "login(url,myFlipUser,myFlipPassword,myFlipBrand)"
   ],
   "outputs": [],
   "metadata": {}
  },
  {
   "cell_type": "code",
   "execution_count": 61,
   "source": [
    "\n",
    "def get_fin_report():\n",
    "    # options = webdriver.ChromeOptions() \n",
    "    # options.add_argument(\"download.default_directory=/Users/simeonbourim/ML/OnlineMetrics/websitelogin\")\n",
    "    # driver = webdriver.Chrome(ChromeDriverManager().install(), options=options)\n",
    "\n",
    "\n",
    "    driver.get('https://console.51hchc.com/financial-report')\n",
    "    sleep(2)\n",
    "\n",
    "    driver.find_element_by_xpath(\"//*[@id='container']/div/div[2]/form/div[1]/div[2]/label[2]\").click()\n",
    "    driver.find_element_by_xpath(\"//*[@id='container']/div/div[2]/form/div[2]/div[1]/div[2]/select/option[2]\").click()\n",
    "    sleep(1)\n",
    "    driver.find_element_by_xpath(\"//*[@id='container']/div/div[2]/form/div[2]/div[2]/button\").click()\n",
    "    \n",
    "get_fin_report(fin)"
   ],
   "outputs": [],
   "metadata": {}
  },
  {
   "cell_type": "code",
   "execution_count": 82,
   "source": [
    "\n",
    "\n",
    "def Flip_Login_Fin_report():\n",
    "    \n",
    "   options = webdriver.ChromeOptions() \n",
    "   prefs = {\"download.default_directory\": \"/Users/simeonbourim/ML/OnlineMetrics/websitelogin\", \"safebrowsing.enabled\":\"false\"}\n",
    "   options.add_experimental_option(\"prefs\", prefs)\n",
    "   driver = webdriver.Chrome(ChromeDriverManager().install(), chrome_options=options)\n",
    "\n",
    "   # LOGIN\n",
    "   driver.get(url)\n",
    "   sleep(2)\n",
    "   driver.find_element_by_id('credential-id').send_keys(myFlipUser)\n",
    "   driver.find_element_by_id('password').send_keys(myFlipPassword)\n",
    "   driver.find_element_by_id('hq-code').send_keys(myFlipBrand)\n",
    "   driver.find_element_by_css_selector('form .buttons input[type=\\'submit\\']').click()\n",
    "   \n",
    "   # GET FINANCIAL REPORT\n",
    "   sleep(2)\n",
    "   driver.get('https://console.51hchc.com/financial-report')\n",
    "   sleep(2)\n",
    "   driver.find_element_by_xpath(\"//*[@id='container']/div/div[2]/form/div[1]/div[2]/label[2]\").click()\n",
    "   driver.find_element_by_xpath(\"//*[@id='container']/div/div[2]/form/div[2]/div[1]/div[2]/select/option[2]\").click()\n",
    "   sleep(1)\n",
    "   driver.find_element_by_xpath(\"//*[@id='container']/div/div[2]/form/div[2]/div[2]/button\").click()\n",
    "\n",
    "Flip_Login_Fin_report()"
   ],
   "outputs": [
    {
     "output_type": "stream",
     "name": "stderr",
     "text": [
      "\n",
      "\n",
      "====== WebDriver manager ======\n",
      "Current google-chrome version is 92.0.4515\n",
      "Get LATEST driver version for 92.0.4515\n",
      "Driver [/Users/simeonbourim/.wdm/drivers/chromedriver/mac64/92.0.4515.43/chromedriver] found in cache\n",
      "<ipython-input-82-78e22e9f9dbb>:6: DeprecationWarning: use options instead of chrome_options\n",
      "  driver = webdriver.Chrome(ChromeDriverManager().install(), chrome_options=options)\n"
     ]
    }
   ],
   "metadata": {}
  },
  {
   "cell_type": "code",
   "execution_count": null,
   "source": [],
   "outputs": [],
   "metadata": {}
  }
 ],
 "metadata": {
  "orig_nbformat": 4,
  "language_info": {
   "name": "python",
   "version": "3.8.5",
   "mimetype": "text/x-python",
   "codemirror_mode": {
    "name": "ipython",
    "version": 3
   },
   "pygments_lexer": "ipython3",
   "nbconvert_exporter": "python",
   "file_extension": ".py"
  },
  "kernelspec": {
   "name": "python3",
   "display_name": "Python 3.8.5 64-bit ('base': conda)"
  },
  "interpreter": {
   "hash": "fa37a564a25274c56c0ccf70a0bfa1b03cb9afd672bb4b199f2c549936d0f024"
  }
 },
 "nbformat": 4,
 "nbformat_minor": 2
}